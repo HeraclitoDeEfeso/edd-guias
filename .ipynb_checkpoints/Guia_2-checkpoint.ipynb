{
 "cells": [
  {
   "cell_type": "markdown",
   "metadata": {},
   "source": [
    "# Estructuras de Datos\n",
    "## Universidad Nacional de Tres de Febrero\n",
    "## Guía de ejercicios 2"
   ]
  },
  {
   "attachments": {
    "Caesar.png": {
     "image/png": "[encoded data removed]"
    }
   },
   "cell_type": "markdown",
   "metadata": {},
   "source": [
    "### Archivos\n",
    "\n",
    "En criptografía, el cifrado César, también conocido como cifrado por desplazamiento, código de César o desplazamiento de César, es una de las técnicas de cifrado más simple y más usada. Es un tipo de cifrado por sustitución en el que una letra en el texto original es reemplazada por otra letra que se encuentra un número fijo de posiciones más adelante en el alfabeto. Por ejemplo, con un desplazamiento de 3, la A será sustituida por la D (situada 3 lugares a la derecha de la A ), la B será reemplazada por la E, etc. Este método debe su nombre a Julio César, que lo usaba para comunicarse con sus generales.\n",
    "\n",
    "![Figura 1: Cifrado César](attachment:Caesar.png)\n"
   ]
  },
  {
   "cell_type": "markdown",
   "metadata": {},
   "source": [
    "#### Ejercicio 1: Escribir las siguientes funciones, probarlas en esta notebook y guardarlas en el archivo cesar.py:"
   ]
  },
  {
   "cell_type": "code",
   "execution_count": null,
   "metadata": {},
   "outputs": [],
   "source": [
    "def cifrar(frase, clave):\n",
    "    \"\"\"Cifra una frase usando la tecnica de Cesar, desplazando cada\n",
    "    letra la cantidad de caracteres indicado en la clave.\n",
    "    Argumentos:\n",
    "    frase: cadena de caracteres a cifrar (solo letras minusculas)\n",
    "    clave: un entero con la cantidad de posiciones a desplazar (entre 0\n",
    "    y 26)\n",
    "    Retorno:\n",
    "    Devuelve una cadena de caracteres con la frase cifrada. Si la\n",
    "    frase original contenia otros caracteres que no fueran letras\n",
    "    minusculas estos quedan inalterados en la cadena retornada\n",
    "    \"\"\"\n",
    "\n",
    "def descifrar(frase_cifrada, clave):\n",
    "    \"\"\" Devuelve la frase descifrada con la clave aplicando el metodo\n",
    "    Ceasar\n",
    "    Argumentos:\n",
    "    frase_cifrada: frase cifrada con el metodo Ceasar y la clave\n",
    "    clave: clave para descifrar, debe ser igual a la usada cuando\n",
    "    se cifro\n",
    "    Retorna:\n",
    "    frase descifrada\n",
    "    \"\"\"\n",
    "   "
   ]
  },
  {
   "cell_type": "markdown",
   "metadata": {},
   "source": [
    "#### Ejercicio 2: Realizar el test unitario utilizando el siguiente fragmento de código. Agregar algunos casos de pruebas más"
   ]
  },
  {
   "cell_type": "code",
   "execution_count": null,
   "metadata": {},
   "outputs": [],
   "source": [
    "import unittest\n",
    "import random\n",
    "\n",
    "class TestCaesar(unittest.TestCase):\n",
    "    def setUp(self):\n",
    "        self.frases=['Rosita Wachenchauzer', 'estructura de datos', 'Martín Albarracín']\n",
    "        self.cifradas3=['Rrvlwd Wdfkhqfkdxchu', 'hvwuxfwxud gh gdwrv', 'Mduwíq Aoeduudfíq']\n",
    "\n",
    "    def test_clave_cero(self):\n",
    "        \"\"\"Asegurarse que con clave 0 nos da la misma frase\n",
    "        \"\"\"\n",
    "        for f in self.frases:\n",
    "            self.assertEqual(caesar.cifrar(f,0), f)\n",
    "\n",
    "    def test_cifrar(self):\n",
    "        \"\"\"Asegurarse que cifra bien con frases (sin normalizar) conocidas\n",
    "        \"\"\"\n",
    "        clave=3\n",
    "        for i in range (len(self.frases)):\n",
    "            self.assertEqual(caesar.cifrar(self.frases[i], clave), self.cifradas3[i])\n",
    "\n",
    "\n",
    "    def test_cifrar_descifrar(self):\n",
    "        \"\"\"Asegurarse que si ciframos y desciframos con la misma clave\n",
    "        se obtiene de nuevo la frase original\n",
    "        \"\"\"\n",
    "        clave=random.randint(0, 26)\n",
    "        for f in self.frases:\n",
    "            self.assertEqual(caesar.descifrar(caesar.cifrar(f, clave), clave),f)\n",
    "            \n",
    "if __name__==\"__main__\":\n",
    "\n",
    "    unittest.main(argv=['first-arg-is-ignored'], exit=False)"
   ]
  },
  {
   "cell_type": "markdown",
   "metadata": {},
   "source": [
    "\n",
    "#### Ejercicio 3: Programar las siguientes funciones que utilicen las funciones ya realizadas y escribir los casos de pruebas unitarias:\n"
   ]
  },
  {
   "cell_type": "code",
   "execution_count": null,
   "metadata": {},
   "outputs": [],
   "source": [
    "def cifrar_archivo(entrada, salida, clave):\n",
    "    \"\"\" Cifra el archivo de entrada usando la tecnica de Caesar\n",
    "    Argumentos:\n",
    "    entrada: cadena de caracteres con el path completo al archivo\n",
    "    de entrada\n",
    "    salida: cadena de caracteres con el path completo al archivo\n",
    "    de salida\n",
    "    clave: entero entre 0 y 26\n",
    "    \"\"\"\n",
    "\n",
    "def descifrar_archivo(entrada, salida, clave):\n",
    "    \"\"\" Descifra el archivo de entrada usando la tecnica de Caesar\n",
    "    Argumentos:\n",
    "    entrada: cadena de caracteres con el path completo al archivo\n",
    "    de entrada\n",
    "    salida: cadena de caracteres con el path completo al archivo\n",
    "    de salida\n",
    "    clave: entero entre 0 y 26\n",
    "    \"\"\"\n"
   ]
  },
  {
   "cell_type": "markdown",
   "metadata": {},
   "source": [
    "### Clases y objetos"
   ]
  },
  {
   "cell_type": "markdown",
   "metadata": {},
   "source": [
    "#### Ejercicio 4: Dada la clase Cifrador (clase genérica que realiza cifrado por sustitución), escribir la clase CifradorCaesar que hereda de Cifrador (cifrador.py)"
   ]
  },
  {
   "cell_type": "code",
   "execution_count": 28,
   "metadata": {},
   "outputs": [],
   "source": [
    "class Cifrador(object):\n",
    "    \"\"\"Cifrador por sustitucion\n",
    "    \"\"\"\n",
    "    alfabeto='abcdefghijklmnopqrstuvwxyz'\n",
    "    alfabeto_cifrado='abcdefghijklmnopqrstuvwxyz'\n",
    "\n",
    "    def __init__(self, clave='', tipo=''):\n",
    "        \"\"\"Las subclases pueden tener diferentes tipos de claves\n",
    "        tipo es una cadena, por ejemplo \"Caesar\"\n",
    "        \"\"\"\n",
    "        self.clave=clave\n",
    "        self.tipo=tipo\n",
    "\n",
    "    def __str__(self):\n",
    "        \"\"\"La representacion de un cifrador es su tipo\n",
    "        \"\"\"\n",
    "        return(\"Cifrador \"+self.tipo)\n",
    "\n",
    "    def cifrar(self, frase):\n",
    "        \"\"\"Cifrado por sustitucion: reemplaza cada letra de la frase,\n",
    "        por la correspondiente letra en el alfabeto cifrado\n",
    "        \"\"\"\n",
    "        frase_cifrada=''\n",
    "        for c in frase:\n",
    "            i=self.alfabeto.find(c)\n",
    "            if i != -1:\n",
    "                frase_cifrada+=self.alfabeto_cifrado[i]\n",
    "            else:\n",
    "                frase_cifrada+=c\n",
    "        return(frase_cifrada)\n",
    "\n",
    "    def descifrar(self, frase_cifrada):\n",
    "        \"\"\"Descifra una frase cifrada, reemplazando cada caracter de\n",
    "        la misma por el caracter correspondiente en el alfabeto\n",
    "        \"\"\"\n",
    "        frase=''\n",
    "        for c in frase_cifrada:\n",
    "            i=self.alfabeto_cifrado.find(c)\n",
    "            if i != -1:\n",
    "                frase+=self.alfabeto[i]\n",
    "            else:\n",
    "                frase+=c\n",
    "        return(frase)"
   ]
  },
  {
   "cell_type": "code",
   "execution_count": null,
   "metadata": {},
   "outputs": [],
   "source": [
    "class CifradorCesar(cifrador.Cifrador):\n",
    "    \"\"\"Cifrador que usa la t\u0013ecnica de Ceasar, reemplaza cada caracter\n",
    "    siempre por el mismo caracter, desplazando cada letra una cantidad\n",
    "    fija\n",
    "    \"\"\"\n",
    "    "
   ]
  },
  {
   "cell_type": "markdown",
   "metadata": {},
   "source": [
    "#### Ejercicio 5: Escribir el test unitario para CifradorCesar, con al menos los mismos casos de prueba que el cifrador anterior"
   ]
  },
  {
   "cell_type": "code",
   "execution_count": null,
   "metadata": {},
   "outputs": [],
   "source": [
    "import unittest\n"
   ]
  }
 ],
 "metadata": {
  "kernelspec": {
   "display_name": "Python 3",
   "language": "python",
   "name": "python3"
  },
  "language_info": {
   "codemirror_mode": {
    "name": "ipython",
    "version": 3
   },
   "file_extension": ".py",
   "mimetype": "text/x-python",
   "name": "python",
   "nbconvert_exporter": "python",
   "pygments_lexer": "ipython3",
   "version": "3.6.2"
  }
 },
 "nbformat": 4,
 "nbformat_minor": 2
}
