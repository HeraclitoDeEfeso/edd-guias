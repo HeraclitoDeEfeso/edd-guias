{
 "cells": [
  {
   "cell_type": "markdown",
   "metadata": {},
   "source": [
    "# Estructuras de Datos\n",
    "\n",
    "## Universidad Nacional de Tres de Febrero\n",
    "\n",
    "## Guía de ejercicios 7: XML y XPath"
   ]
  },
  {
   "cell_type": "markdown",
   "metadata": {},
   "source": [
    "---"
   ]
  },
  {
   "cell_type": "markdown",
   "metadata": {},
   "source": [
    "### Ejercicio 1\n",
    "\n",
    "Tenemos el siguiente documento XML:\n",
    "\n",
    "```xml\n",
    "<Pedidos>\n",
    "    <Pedido>\n",
    "        <Cliente>Ana</Cliente>\n",
    "        <PC>pc500</PC>\n",
    "    </Pedido>\n",
    "    <Pedido>\n",
    "        <Cliente>Juan</Cliente>\n",
    "        <PC>pc600</PC>\n",
    "    </Pedido>\n",
    "</Pedidos>\n",
    "```\n",
    "\n",
    "1. Dibujar el árbol del documento.\n",
    "2. Calcular las respuestas a las siguientes consultas XPath:\n",
    "    1. `/Pedidos/Pedido/PC`\n",
    "    2. `//Cliente//*`\n",
    "    3. `/Pedidos/Pedido[Cliente='Ana']`\n",
    "    4. `//Pedido[Cliente and PC]/PC`\n",
    "    5. `//*//Pedido[Cliente='Ana']/Cliente`\n",
    "    6. `//Pedido[Cliente='Juan'][PC != 'pc600']`\n",
    "    7. `//Pedido[PC='pc600']//`"
   ]
  },
  {
   "cell_type": "markdown",
   "metadata": {},
   "source": [
    "### Ejercicio 2\n",
    "\n",
    "El archivo `courses-castellano.xml` tiene una lista de algunas materias de varios departamentos de la Universidad de Stanford. Con ese archivo:\n",
    "\n",
    "1. Encontrar todos los nodos Título (tanto de departamentos como de materias).\n",
    "2. Encontrar los apellidos de todos los directores de departamento\n",
    "3. Listar todas las materias con más de 500 vacantes.\n",
    "4. Listar los nombres (Títulos) de departamentos que tienen una materia con correlativa \"CS106B\".\n",
    "5. Apellidos de todos los docentes que firman con segundo nombre.\n",
    "6. Apellidos de todos los docentes que tienen materias con vacantes mayores o iguales a 100."
   ]
  },
  {
   "cell_type": "code",
   "execution_count": null,
   "metadata": {},
   "outputs": [],
   "source": []
  },
  {
   "cell_type": "markdown",
   "metadata": {},
   "source": [
    "### Ejercicio 3\n",
    "\n",
    "El archivo `shaks200.zip` contiene varias obras de Shakespeare en formato `.xml`. Dentro del `.zip` se encuentra el archivo `playlist` con la lista de obras contenidas y `play.dtd` con la definición del esquema `.xml`.\n",
    "\n",
    "1. Analizar el archivo `dtd` y graficar en forma de árbol la estructura de una obra.\n",
    "\n",
    "    Recordar que en la definición `*` significa que el bloque se repite 0 o más veces; `+` que se repite 1 o más veces; `?`, 0 o 1 vez y `#PCDATA` se refiere a texto\n",
    "\n",
    "\n",
    "2. Escribir una programa que recorra todas las obras disponibles (leyendo el archivo `playlist`) y liste todos los grupos de personas que participan en alguna obra con el siguiente formato:\n",
    "\n",
    "    ```\n",
    "    Título de la Obra\n",
    "    Descripción del grupo\n",
    "    Persona\n",
    "    ...\n",
    "    Persona\n",
    "    ```\n",
    "3. Escribir un programa que lea todos los personajes de todas las obras y arme una especie de índice invertido indicando los títulos de las obras en que participa cada personaje. (Recorrer el archivo `playlist` para obtener el listado de obras disponibles, para que si en el futuro se agregan o quitan obras o si se modifican los nombres de los archivos, no queden los nombres referenciados en el código). Listar todos los personajes ordenados de mayor a menor por la cantidad de obras en las que aparecen con el siguiente formato (si varios personajes aparecen en la misma cantidad de obras listarlos ordenados alfabéticamente):\n",
    "\n",
    "    ```\n",
    "    Persona\n",
    "    Tìtulo de la obra\n",
    "    ...\n",
    "    Título de la obra\n",
    "    ```\n",
    "    \n",
    "4. Escribir un programa y calcular quien dice más líneas en la obra Romeo y Julieta, Romeo o Julieta"
   ]
  },
  {
   "cell_type": "code",
   "execution_count": null,
   "metadata": {},
   "outputs": [],
   "source": []
  },
  {
   "cell_type": "markdown",
   "metadata": {},
   "source": [
    "---"
   ]
  },
  {
   "cell_type": "markdown",
   "metadata": {},
   "source": [
    "Se recomienda usar la biblioteca`lxml` http://lxml.de/. A continuación hay un ejemplo de como utilizar la biblioteca:"
   ]
  },
  {
   "cell_type": "code",
   "execution_count": null,
   "metadata": {},
   "outputs": [],
   "source": [
    "from lxml import etree\n",
    "\n",
    "tree = etree.parse('archivo.xml') # archivo.xml es el XML del Ejercicio 1\n",
    "\n",
    "root = tree.getroot() # Devuelve la raíz del árbol XML\n",
    "\n",
    "len(root) # los elementos del árbol son listas\n",
    "\n",
    "for child in root:\n",
    "    print(child)\n",
    "\n",
    "for child in root:\n",
    "    print(child.tag) # con `.tag` se accede a la etiqueta\n",
    "\n",
    "b1 = tree.xpath(\"/Pedidos/Pedido/PC\")\n",
    "\n",
    "b2 = tree.xpath(\"//Cliente//*\")\n",
    "\n",
    "b3 = tree.xpath(\"/Pedidos/Pedido[cliente='Ana']\")\n",
    "\n",
    "b4 = tree.xpath(\"Pedido[Cliente and PC]/PC\")\n",
    "\n",
    "b5 = tree.xpath(\"//*//Pedido[Cliente='Ana']/Cliente\")\n",
    "\n",
    "b6 = tree.xpath(\"//Pedido[Cliente='Juan'][PC != 'pc600']\")\n",
    "\n",
    "b7 = tree.xpaht(\"//Pedido[PC='pc600']//\")"
   ]
  }
 ],
 "metadata": {
  "kernelspec": {
   "display_name": "Python 3",
   "language": "python",
   "name": "python3"
  },
  "language_info": {
   "codemirror_mode": {
    "name": "ipython",
    "version": 3
   },
   "file_extension": ".py",
   "mimetype": "text/x-python",
   "name": "python",
   "nbconvert_exporter": "python",
   "pygments_lexer": "ipython3",
   "version": "3.5.3"
  }
 },
 "nbformat": 4,
 "nbformat_minor": 2
}
