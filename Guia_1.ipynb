{
 "cells": [
  {
   "cell_type": "markdown",
   "metadata": {},
   "source": [
    "# Estructuras de Datos\n",
    "## Universidad Nacional de Tres de Febrero\n",
    "## Guía de ejercicios 1"
   ]
  },
  {
   "cell_type": "markdown",
   "metadata": {},
   "source": [
    "### El Entorno interactivo de Python\n",
    "#### Ejercicio 1. Realizar los siguientes cálculos:\n",
    "\n",
    "- 2<sup>1024</sup>"
   ]
  },
  {
   "cell_type": "code",
   "execution_count": 1,
   "metadata": {},
   "outputs": [
    {
     "data": {
      "text/plain": [
       "179769313486231590772930519078902473361797697894230657273430081157732675805500963132708477322407536021120113879871393357658789768814416622492847430639474124377767893424865485276302219601246094119453082952085005768838150682342462881473913110540827237163350510684586298239947245938479716304835356329624224137216"
      ]
     },
     "execution_count": 1,
     "metadata": {},
     "output_type": "execute_result"
    }
   ],
   "source": [
    "2**1024"
   ]
  },
  {
   "cell_type": "markdown",
   "metadata": {},
   "source": [
    "- 1/3+ 1/5"
   ]
  },
  {
   "cell_type": "code",
   "execution_count": 4,
   "metadata": {},
   "outputs": [
    {
     "data": {
      "text/plain": [
       "0.5333333333333333"
      ]
     },
     "execution_count": 4,
     "metadata": {},
     "output_type": "execute_result"
    }
   ],
   "source": [
    "1/3+ 1/5"
   ]
  },
  {
   "cell_type": "markdown",
   "metadata": {},
   "source": [
    "- Calcular las raíces del siguiente polinomio:  X<sup>2</sup> − 8X + 15"
   ]
  },
  {
   "cell_type": "code",
   "execution_count": 16,
   "metadata": {},
   "outputs": [
    {
     "data": {
      "text/plain": [
       "[5.0, 3.0]"
      ]
     },
     "execution_count": 16,
     "metadata": {},
     "output_type": "execute_result"
    }
   ],
   "source": [
    "from math import sqrt\n",
    "def raices(ax, bx, c):\n",
    "    determinante = bx ** 2 - 4 * ax * c\n",
    "    termino_izquierda = -bx / (2 * ax)\n",
    "    if determinante == 0:\n",
    "        return [termino_izquierda]\n",
    "    termino_derecha = sqrt(abs(determinante)) / (2 * ax)\n",
    "    if determinante < 0:\n",
    "        return [complex(termino_izquierda, termino_derecha), complex(termino_izquierda, -termino_derecha)]\n",
    "    return [termino_izquierda + termino_derecha, termino_izquierda - termino_derecha]\n",
    "raices(1,-8,15)"
   ]
  },
  {
   "cell_type": "markdown",
   "metadata": {},
   "source": [
    "\n",
    "#### Ejercicio 2. Probar en el entorno interactivo:\n"
   ]
  },
  {
   "cell_type": "code",
   "execution_count": 3,
   "metadata": {
    "scrolled": false
   },
   "outputs": [
    {
     "name": "stdout",
     "output_type": "stream",
     "text": [
      "Hola Mundo\n",
      "Hola Mundo\n",
      "Hola Mundo\n",
      "\n"
     ]
    }
   ],
   "source": [
    "a=3\n",
    "saludo = 'Hola Mundo\\n'\n",
    "print(saludo*a)"
   ]
  },
  {
   "cell_type": "markdown",
   "metadata": {},
   "source": [
    "- Insertar un fin de línea en saludo para que lo imprima en tres líneas"
   ]
  },
  {
   "cell_type": "markdown",
   "metadata": {},
   "source": [
    "- Dado el siguiente fragmento de realizar lo siguiente:\n",
    "```python\n",
    "texto=\"En estructura de datos usamos java como lenguaje de programación\"\n",
    "```\n",
    "\n",
    "Reemplazar _java_ por _python_\n",
    "\n",
    "¿Qué caracter devuelve _texto[-2]_?\n",
    "\n",
    "¿y _texto[-2:]_?\n",
    "\n",
    "¿Qué pasa si ejecutamos _texto[-2]='-'_?¿Porqué?\n",
    "\n",
    "¿En qué posición comienza la palabra programación?\n",
    "\n",
    "Extraer la última palabra del texto y guardarla en una variable\n",
    "\n",
    "¿Qué resultado produce _texto.title()_?\n",
    "\n",
    "Ejecutar el comando _dir(texto)_\n",
    "\n",
    "¿De qué tipo es la variable _texto_?\n",
    "\n",
    "Investigar la ayuda para la función **_join_** que soporta texto"
   ]
  },
  {
   "cell_type": "code",
   "execution_count": 39,
   "metadata": {
    "scrolled": false
   },
   "outputs": [
    {
     "name": "stdout",
     "output_type": "stream",
     "text": [
      "En estructura de datos usamos python como lenguaje de programación\n",
      "ó\n",
      "ón\n",
      "52\n",
      "programación\n",
      "En Estructura De Datos Usamos Java Como Lenguaje De Programación\n",
      "['__add__', '__class__', '__contains__', '__delattr__', '__dir__', '__doc__', '__eq__', '__format__', '__ge__', '__getattribute__', '__getitem__', '__getnewargs__', '__gt__', '__hash__', '__init__', '__init_subclass__', '__iter__', '__le__', '__len__', '__lt__', '__mod__', '__mul__', '__ne__', '__new__', '__reduce__', '__reduce_ex__', '__repr__', '__rmod__', '__rmul__', '__setattr__', '__sizeof__', '__str__', '__subclasshook__', 'capitalize', 'casefold', 'center', 'count', 'encode', 'endswith', 'expandtabs', 'find', 'format', 'format_map', 'index', 'isalnum', 'isalpha', 'isascii', 'isdecimal', 'isdigit', 'isidentifier', 'islower', 'isnumeric', 'isprintable', 'isspace', 'istitle', 'isupper', 'join', 'ljust', 'lower', 'lstrip', 'maketrans', 'partition', 'replace', 'rfind', 'rindex', 'rjust', 'rpartition', 'rsplit', 'rstrip', 'split', 'splitlines', 'startswith', 'strip', 'swapcase', 'title', 'translate', 'upper', 'zfill']\n",
      "<class 'str'>\n",
      "Help on method_descriptor in str:\n",
      "\n",
      "str.join = join(self, iterable, /)\n",
      "    Concatenate any number of strings.\n",
      "    \n",
      "    The string whose method is called is inserted in between each given string.\n",
      "    The result is returned as a new string.\n",
      "    \n",
      "    Example: '.'.join(['ab', 'pq', 'rs']) -> 'ab.pq.rs'\n",
      "\n"
     ]
    }
   ],
   "source": [
    "texto = \"En estructura de datos usamos java como lenguaje de programación\"\n",
    "print(texto.replace(\"java\", \"python\"),\n",
    "      texto[-2],\n",
    "      texto[-2:],\n",
    "      texto.find(\"programación\"),\n",
    "      sep=\"\\n\")\n",
    "a = texto[52:]\n",
    "print(a,\n",
    "      texto.title(),\n",
    "      dir(texto),\n",
    "      type(texto),\n",
    "      sep=\"\\n\")\n",
    "help(\"str.join\")"
   ]
  },
  {
   "cell_type": "markdown",
   "metadata": {},
   "source": [
    "- Programar una función que reciba un valor en grados Fharenheit y devuelva el equivalente en grados Celsius.\n",
    "\n",
    "Luego escribir otra función que utilice la función anterior e imprima una tabla de conversión desde 0ºF hasta 120ºF con incrementos de 10.\n",
    "\n",
    "La fórmula de conversión es la siguiente:\n",
    "\n",
    "\\begin{equation*}\n",
    "F=\\frac{3}{5} \\times C+32\n",
    "\\end{equation*}"
   ]
  },
  {
   "cell_type": "code",
   "execution_count": 43,
   "metadata": {},
   "outputs": [
    {
     "name": "stdout",
     "output_type": "stream",
     "text": [
      "  F°     C°\n",
      "------------\n",
      "  0.0  -53.3\n",
      " 10.0  -36.7\n",
      " 20.0  -20.0\n",
      " 30.0   -3.3\n",
      " 40.0   13.3\n",
      " 50.0   30.0\n",
      " 60.0   46.7\n",
      " 70.0   63.3\n",
      " 80.0   80.0\n",
      " 90.0   96.7\n",
      "100.0  113.3\n",
      "110.0  130.0\n",
      "120.0  146.7\n"
     ]
    }
   ],
   "source": [
    "def fharenheit_celsius (grados):\n",
    "    return (grados - 32) * 5 / 3\n",
    "\n",
    "def tabla_conversion():\n",
    "    print(\"  F°     C°\")\n",
    "    print(\"------------\")\n",
    "    print(*[\"%5.1f  %5.1f\" % (grados, fharenheit_celsius(grados)) for grados in range(0,121,10)], sep='\\n')\n",
    "\n",
    "tabla_conversion()"
   ]
  },
  {
   "cell_type": "markdown",
   "metadata": {},
   "source": [
    "### Listas, diccionarios y tuplas"
   ]
  },
  {
   "cell_type": "markdown",
   "metadata": {},
   "source": [
    "##### Ejercicio 3 Dada una lista de números escribir una función que:\n",
    "1. Devuelva una lista con todos los números que sean primos"
   ]
  },
  {
   "cell_type": "code",
   "execution_count": 44,
   "metadata": {},
   "outputs": [
    {
     "name": "stdout",
     "output_type": "stream",
     "text": [
      "Es 17 primo? True\n",
      "Primos en la lista [4, 6, 7, 12, 15, 19]?  [7, 19]\n"
     ]
    }
   ],
   "source": [
    "def is_prime(n):\n",
    "     if n <= 1:\n",
    "        return False\n",
    "     elif n <= 3:\n",
    "        return True\n",
    "     elif n % 2 == 0 or n % 3 == 0:\n",
    "        return False\n",
    "     i = 5\n",
    "     while i * i <= n:\n",
    "        if n % i == 0 or n % (i + 2) == 0:\n",
    "            return False\n",
    "        i = i + 6\n",
    "     return True\n",
    "\n",
    "def filter_prime(list):\n",
    "    return [n for n in list if is_prime(n)]\n",
    "\n",
    "print('Es 17 primo?', is_prime(17))\n",
    "print('Primos en la lista [4, 6, 7, 12, 15, 19]? ', filter_prime([4,6,7,12,15,19]))"
   ]
  },
  {
   "cell_type": "markdown",
   "metadata": {},
   "source": [
    "2. Devuelva la suma y el promedio de todos los números de la lista"
   ]
  },
  {
   "cell_type": "code",
   "execution_count": null,
   "metadata": {},
   "outputs": [],
   "source": []
  },
  {
   "cell_type": "markdown",
   "metadata": {},
   "source": [
    "3. Devuelva una lista con el factorial de cada uno de los números de la lista original."
   ]
  },
  {
   "cell_type": "code",
   "execution_count": null,
   "metadata": {},
   "outputs": [],
   "source": []
  },
  {
   "cell_type": "markdown",
   "metadata": {},
   "source": [
    "4. Reciba la lista y un número k y devuelva tres listas: una con los números menores a k, otra con los números iguales a k y la tercera con los mayores que k (¿Cómo se hace para que devuelva tres listas?)"
   ]
  },
  {
   "cell_type": "code",
   "execution_count": null,
   "metadata": {},
   "outputs": [],
   "source": []
  },
  {
   "cell_type": "markdown",
   "metadata": {},
   "source": [
    "5. Escribir una función que implemente el algoritmo de ordenamiento quicksort (Se puede programar en una línea)"
   ]
  },
  {
   "cell_type": "code",
   "execution_count": null,
   "metadata": {},
   "outputs": [],
   "source": []
  },
  {
   "cell_type": "markdown",
   "metadata": {},
   "source": [
    "#### Ejercicio 4: Dada la siguiente representación de una matriz usando listas:\n",
    "\n",
    "\\begin{equation*}\n",
    "\\begin{vmatrix}\n",
    "\\mathbf{1} & \\mathbf{2} & \\mathbf{3} \\\\\n",
    "\\mathbf{4} & \\mathbf{5} & \\mathbf{6} \\\\\n",
    "\\mathbf{7} & \\mathbf{8} & \\mathbf{9} \n",
    "\\end{vmatrix}\n",
    "\\end{equation*}\n",
    "\n",
    "\\begin{equation*}\n",
    "[[1,2,3],[4,5,6],[7,8,9]]\n",
    "\\end{equation*}"
   ]
  },
  {
   "cell_type": "markdown",
   "metadata": {},
   "source": [
    "- Programar una función que:"
   ]
  },
  {
   "cell_type": "markdown",
   "metadata": {},
   "source": [
    "1. Reciba dos matrices de tamaño arbitrario y devuelva su suma"
   ]
  },
  {
   "cell_type": "code",
   "execution_count": null,
   "metadata": {},
   "outputs": [],
   "source": []
  },
  {
   "cell_type": "markdown",
   "metadata": {},
   "source": [
    "2. Reciba una matriz y devuelva una lista con los elementos de la diagonal"
   ]
  },
  {
   "cell_type": "code",
   "execution_count": null,
   "metadata": {},
   "outputs": [],
   "source": []
  },
  {
   "cell_type": "markdown",
   "metadata": {},
   "source": [
    "3. Reciba un entero n y devuelva una matriz identidad de n x n"
   ]
  },
  {
   "cell_type": "code",
   "execution_count": null,
   "metadata": {},
   "outputs": [],
   "source": []
  },
  {
   "cell_type": "markdown",
   "metadata": {},
   "source": [
    "4. Recibia una matriz de n x n y devuelva cada columna de la matriz en una lista"
   ]
  },
  {
   "cell_type": "code",
   "execution_count": null,
   "metadata": {},
   "outputs": [],
   "source": []
  },
  {
   "cell_type": "markdown",
   "metadata": {},
   "source": [
    "5. Reciba una matriz y devuelva la matriz traspuesta"
   ]
  },
  {
   "cell_type": "code",
   "execution_count": null,
   "metadata": {},
   "outputs": [],
   "source": []
  },
  {
   "cell_type": "markdown",
   "metadata": {},
   "source": [
    "#### Ejercicio 5: Dada una cadena de caracteres escribir una función que:\n",
    "\n",
    "1. Devuelva una diccionario con la frecuencia de aparición de cada caracter"
   ]
  },
  {
   "cell_type": "code",
   "execution_count": null,
   "metadata": {},
   "outputs": [],
   "source": []
  },
  {
   "cell_type": "markdown",
   "metadata": {},
   "source": [
    "2. Reciba además de la cadena un caractér k y devuelva la frecuencia de k en la cadena (si k no aparece debe devolver 0)"
   ]
  },
  {
   "cell_type": "code",
   "execution_count": null,
   "metadata": {},
   "outputs": [],
   "source": []
  },
  {
   "cell_type": "markdown",
   "metadata": {},
   "source": [
    "3. Devuelva un diccionario cuyas claves sean las vocales y los valores listas de palabras que empiecen con la vocal indicada"
   ]
  },
  {
   "cell_type": "code",
   "execution_count": null,
   "metadata": {},
   "outputs": [],
   "source": []
  }
 ],
 "metadata": {
  "kernelspec": {
   "display_name": "Python 3",
   "language": "python",
   "name": "python3"
  },
  "language_info": {
   "codemirror_mode": {
    "name": "ipython",
    "version": 3
   },
   "file_extension": ".py",
   "mimetype": "text/x-python",
   "name": "python",
   "nbconvert_exporter": "python",
   "pygments_lexer": "ipython3",
   "version": "3.7.0"
  }
 },
 "nbformat": 4,
 "nbformat_minor": 2
}
