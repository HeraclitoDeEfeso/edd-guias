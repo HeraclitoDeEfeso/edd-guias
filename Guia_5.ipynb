{
 "cells": [
  {
   "cell_type": "markdown",
   "metadata": {},
   "source": [
    "# Estructuras de Datos\n",
    "## Universidad Nacional de Tres de Febrero\n",
    "## Guía de ejercicios 5"
   ]
  },
  {
   "cell_type": "markdown",
   "metadata": {},
   "source": [
    "### Recuperación de la información: Índice invertido y árboles B"
   ]
  },
  {
   "cell_type": "markdown",
   "metadata": {},
   "source": [
    "#### Ejercicio 1: Escribir una función que reciba una lista de documentos y calcule y muestre la matriz de incidencia correspondiente. Los documentos de entrada los recibe en un diccionario con la siguiente estructura:\n",
    "```python\n",
    "documentos = {\"doc1\": \"La casa está ordenada\", \"doc2\": \"María se casa el día de mañana\", \"doc3\": \"María es muy ordenada\", \"doc4\": \"Mañana será un gran día\"}\n",
    "```"
   ]
  },
  {
   "cell_type": "code",
   "execution_count": null,
   "metadata": {},
   "outputs": [],
   "source": []
  },
  {
   "cell_type": "markdown",
   "metadata": {},
   "source": [
    "#### Ejercicio 2: Escribir una función que reciba una lista de documentos con el mismo formato del ejercicio anterior y devuelva y muestre el índice invertido correspondiente, utlizando como estructura de datos de base los diccionarios de python"
   ]
  },
  {
   "cell_type": "code",
   "execution_count": null,
   "metadata": {},
   "outputs": [],
   "source": []
  },
  {
   "cell_type": "markdown",
   "metadata": {},
   "source": [
    "#### Ejercicio 3: Escribir funciones para resolver puntualmente las siguientes consultas booleanas, utilizando el índice invertido del ejercicio anterior:\n",
    "1. día and mañana\n",
    "2. (María or día) and not (ordenada)\n",
    "3. (casa and not María) or (mañana and not María)\n",
    "4. (casa or mañana) and not María"
   ]
  },
  {
   "cell_type": "code",
   "execution_count": null,
   "metadata": {},
   "outputs": [],
   "source": []
  },
  {
   "cell_type": "markdown",
   "metadata": {},
   "source": [
    "#### Ejercicio 4: Escribir una función que reciba una lista de documentos, donde los documentos son nombres de archivos de texto (path completo) y calcule el índice invertido correspondiente. Calcular el índice invertido de los cuentos de Tolkien, considerando los siguientes documentos:\n",
    "1. Introduccion.txt\n",
    "2. Bombadil.txt\n",
    "3. Egidio.txt\n",
    "4. Niggle.txt\n",
    "5. Roverandom.txt\n",
    "6. Wotton.txt\n",
    "\n",
    "Escribir y resolver algunas consultas a modo de test.\n",
    "La función pedida no debe considerar stop words, no debe distinguir entre mayúsculas y minúsculas, no debe indexar palabras con menos de 3 caracteres."
   ]
  },
  {
   "cell_type": "code",
   "execution_count": null,
   "metadata": {},
   "outputs": [],
   "source": [
    "#Lista de Stop Words en español\n",
    "# http://snowball.tartarus.org/algorithms/spanish/stop.txt\n",
    "_STOP_WORDS = frozenset(['de', 'la', 'que', 'el', 'en', 'y', 'a', 'los',\n",
    "'del', 'se', 'las', 'por', 'un', 'para', 'con', 'no', 'una', 'su', 'al', 'es',\n",
    "'lo', 'como', 'más', 'pero', 'sus', 'le', 'ya', 'o', 'fue', 'este', 'ha', 'sí',\n",
    "'porque', 'esta', 'son', 'entre', 'está', 'cuando', 'muy', 'sin', 'sobre',\n",
    "'ser', 'tiene', 'también', 'me', 'hasta', 'hay', 'donde', 'han', 'quien',\n",
    "'están', 'estado', 'desde', 'todo', 'nos', 'durante', 'estados', 'todos',\n",
    "'uno', 'les', 'ni', 'contra', 'otros', 'fueron', 'ese', 'eso', 'había',\n",
    "'ante', 'ellos', 'e', 'esto', 'mí', 'antes', 'algunos', 'qué', 'unos', 'yo',\n",
    "'otro', 'otras', 'otra', 'él', 'tanto', 'esa', 'estos', 'mucho', 'quienes',\n",
    "'nada', 'muchos', 'cual', 'sea', 'poco', 'ella', 'estar', 'haber', 'estas',\n",
    "'estaba', 'estamos', 'algunas', 'algo', 'nosotros', 'mi', 'mis', 'tú', 'te',\n",
    "'ti', 'tu', 'tus', 'ellas', 'nosotras', 'vosotros', 'vosotras', 'os', 'mío',\n",
    "'mía', 'míos', 'mías', 'tuyo', 'tuya', 'tuyos', 'tuyas', 'suyo', 'suya',\n",
    "'suyos', 'suyas', 'nuestro', 'nuestra', 'nuestros', 'nuestras', 'vuestro',\n",
    "'vuestra', 'vuestros', 'vuestras', 'esos', 'esas', 'estoy', 'estás', 'está',\n",
    "'estamos', 'estáis', 'están', 'esté', 'estés', 'estemos', 'estéis', 'estén',\n",
    "'estaré', 'estarás', 'estará', 'estaremos', 'estaréis', 'estarán', 'estaría',\n",
    "'estarías', 'estaríamos', 'estaríais', 'estarían', 'estaba', 'estabas',\n",
    "'estábamos', 'estabais', 'estaban', 'estuve', 'estuviste', 'estuvo',\n",
    "'estuvimos', 'estuvisteis', 'estuvieron', 'estuviera', 'estuvieras',\n",
    "'estuviéramos', 'estuvierais', 'estuvieran', 'estuviese', 'estuvieses',\n",
    "'estuviésemos', 'estuvieseis', 'estuviesen', 'estando', 'estado', 'estada',\n",
    "'estados', 'estadas', 'estad', 'he', 'has', 'ha', 'hemos', 'habéis', 'han',\n",
    "'haya', 'hayas', 'hayamos', 'hayáis', 'hayan', 'habré', 'habrás', 'habrá',\n",
    "'habremos', 'habréis', 'habrán', 'habría', 'habrías', 'habríamos', 'habríais',\n",
    "'habrían', 'había', 'habías', 'habíamos', 'habíais', 'habían', 'hube',\n",
    "'hubiste', 'hubo', 'hubimos', 'hubisteis', 'hubieron', 'hubiera', 'hubieras',\n",
    "'hubiéramos', 'hubierais', 'hubieran', 'hubiese', 'hubieses', 'hubiésemos',\n",
    "'hubieseis', 'hubiesen', 'habiendo', 'habido', 'habida', 'habidos', 'habidas',\n",
    "'soy', 'eres', 'es', 'somos', 'sois', 'son', 'sea', 'seas', 'seamos', 'seáis',\n",
    "'sean', 'seré', 'serás', 'será', 'seremos', 'seréis', 'serán', 'sería',\n",
    "'serías', 'seríamos', 'seríais', 'serían', 'era', 'eras', 'éramos', 'erais',\n",
    "'eran', 'fui', 'fuiste', 'fue', 'fuimos', 'fuisteis', 'fueron', 'fuera',\n",
    "'fueras', 'fuéramos', 'fuerais', 'fueran', 'fuese', 'fueses', 'fuésemos',\n",
    "'fueseis', 'fuesen', 'siendo', 'sido', 'sed', 'tengo', 'tienes', 'tiene',\n",
    "'tenemos', 'tenéis', 'tienen', 'tenga', 'tengas', 'tengamos', 'tengáis',\n",
    "'tengan', 'tendré', 'tendrás', 'tendrá', 'tendremos', 'tendréis', 'tendrán',\n",
    "'tendría', 'tendrías', 'tendríamos', 'tendríais', 'tendrían', 'tenía',\n",
    "'tenías', 'teníamos', 'teníais', 'tenían', 'tuve', 'tuviste', 'tuvo',\n",
    "'tuvimos', 'tuvisteis', 'tuvieron', 'tuviera', 'tuvieras', 'tuviéramos',\n",
    "'tuvierais', 'tuvieran', 'tuviese', 'tuvieses', 'tuviésemos', 'tuvieseis',\n",
    "'tuviesen', 'teniendo', 'tenido', 'tenida', 'tenidos', 'tenidas', 'tened', ''])\n"
   ]
  },
  {
   "cell_type": "markdown",
   "metadata": {},
   "source": [
    "#### Ejercicio 5: Agregar un stemmer a la función del ejercicio anterior. Por ejemplo se puede utilizar PyStemmer (https://github.com/snowballstem/pystemmer) que es parte de Snowball (http://snowballstem.org/).\n",
    "Realizar pruebas unitarias"
   ]
  },
  {
   "cell_type": "code",
   "execution_count": null,
   "metadata": {},
   "outputs": [],
   "source": []
  },
  {
   "attachments": {
    "arbolB.png": {
     "image/png": "[encoded data removed]"
    }
   },
   "cell_type": "markdown",
   "metadata": {},
   "source": [
    "#### Ejercicio 6: Dado el siguiente árbol B con rango t = 2 (la cantidad de elementos que se pueden insertar en un nodo van de t-1 hasta 2t-1), insertar las claves G,H,K,M,R,W,Z paso a paso:\n",
    "\n",
    "![Figura 1: Árbol B](attachment:arbolB.png)\n",
    "\n"
   ]
  },
  {
   "cell_type": "code",
   "execution_count": null,
   "metadata": {},
   "outputs": [],
   "source": []
  },
  {
   "cell_type": "markdown",
   "metadata": {},
   "source": [
    "#### Ejercicio 7: Calcular el índice invertido, sobre un árbol B, con todos los documentos del ejercicio 1 y utilizarlo para encontrar las palabras que cumplen con las siguientes condiciones:\n",
    "1. ma*\n",
    "2. \\*a\n",
    "3. ma\\*a"
   ]
  },
  {
   "cell_type": "code",
   "execution_count": null,
   "metadata": {},
   "outputs": [],
   "source": []
  }
 ],
 "metadata": {
  "kernelspec": {
   "display_name": "Python 3",
   "language": "python",
   "name": "python3"
  },
  "language_info": {
   "codemirror_mode": {
    "name": "ipython",
    "version": 3
   },
   "file_extension": ".py",
   "mimetype": "text/x-python",
   "name": "python",
   "nbconvert_exporter": "python",
   "pygments_lexer": "ipython3",
   "version": "3.6.5"
  }
 },
 "nbformat": 4,
 "nbformat_minor": 2
}
